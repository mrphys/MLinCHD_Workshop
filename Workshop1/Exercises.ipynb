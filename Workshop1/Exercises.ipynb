{
  "cells": [
    {
      "cell_type": "markdown",
      "metadata": {},
      "source": [
        "# Introduction to Machine Learning\n",
        "\n",
        "In this tutorial we are going to start working with some basic machine learning models. We will be using **TensorFlow**, a software library designed to train and use neural networks efficiently.\n",
        "\n",
        "We will train three models:\n",
        "\n",
        "1. A simple linear regression model. Naturally, there are easier ways to perform linear regression, and you would not actually use this type of model in a realistic scenario. However, it is useful to understand the basics of how neural networks work.\n",
        "2. A dense neural network for image classification. We will be using the **Fashion-MNIST** dataset, which is a simple way to get started.\n",
        "3. A convolutional neural network (CNN) for image classification. CNNs are powerful models for image processing tasks, and therefore it is useful to get acquainted with them.\n",
        "\n",
        "> **Tip**: if you are running this in Google Colab, you can enable GPU computation by clicking on **Runtime > Change runtime type** and selecting **GPU** under **Hardware accelerator**. This will significantly speed up training of neural networks.\n",
        "\n",
        "If you are running this outside the live session, please refer to the slides or the recording for more detailed explanations about these exercises. "
      ]
    },
    {
      "cell_type": "markdown",
      "metadata": {
        "id": "B8Mh--9eEdqf"
      },
      "source": [
        "## Linear regression"
      ]
    },
    {
      "cell_type": "markdown",
      "metadata": {
        "id": "ZVkUDm78IgUb"
      },
      "source": [
        "Neural networks are typically used to tackle complex problems. However, to understand how they work it is useful to consider a simple problem: **linear regression**. In linear regression, we assume there is a linear relationship\n",
        "between an independent or explanatory variable, $x$, and a dependent or response variable, $y$. This can be expressed mathematically as:\n",
        "\n",
        "$$y = wx + b$$\n",
        "\n",
        "where $w$ is the slope of the line, called **weight**, and $b$ is the intercept, called **bias**."
      ]
    },
    {
      "cell_type": "code",
      "execution_count": 1,
      "metadata": {
        "id": "MtkZxQErCczh"
      },
      "outputs": [
        {
          "name": "stderr",
          "output_type": "stream",
          "text": [
            "2022-07-28 08:20:46.699289: I tensorflow/core/util/util.cc:169] oneDNN custom operations are on. You may see slightly different numerical results due to floating-point round-off errors from different computation orders. To turn them off, set the environment variable `TF_ENABLE_ONEDNN_OPTS=0`.\n"
          ]
        }
      ],
      "source": [
        "# TensorFlow is a library designed to perform training and inference\n",
        "# of neural networks.\n",
        "import tensorflow as tf\n",
        "# Matplotlib is a plotting library. We'll use it to create some plots below.\n",
        "import matplotlib.pyplot as plt"
      ]
    },
    {
      "cell_type": "markdown",
      "metadata": {
        "id": "luChIZKOIy-V"
      },
      "source": [
        "Let's define some simple dummy data. Here `x` (the inputs) and `y` (the outputs) are related by the linear function $y = 2x - 4$."
      ]
    },
    {
      "cell_type": "code",
      "execution_count": 2,
      "metadata": {
        "id": "nHMyc5JrIxTe"
      },
      "outputs": [
        {
          "name": "stderr",
          "output_type": "stream",
          "text": [
            "2022-07-28 08:20:48.300237: I tensorflow/stream_executor/cuda/cuda_gpu_executor.cc:975] successful NUMA node read from SysFS had negative value (-1), but there must be at least one NUMA node, so returning NUMA node zero\n",
            "2022-07-28 08:20:48.315685: I tensorflow/stream_executor/cuda/cuda_gpu_executor.cc:975] successful NUMA node read from SysFS had negative value (-1), but there must be at least one NUMA node, so returning NUMA node zero\n",
            "2022-07-28 08:20:48.315834: I tensorflow/stream_executor/cuda/cuda_gpu_executor.cc:975] successful NUMA node read from SysFS had negative value (-1), but there must be at least one NUMA node, so returning NUMA node zero\n",
            "2022-07-28 08:20:48.316588: I tensorflow/core/platform/cpu_feature_guard.cc:193] This TensorFlow binary is optimized with oneAPI Deep Neural Network Library (oneDNN) to use the following CPU instructions in performance-critical operations:  AVX2 AVX512F AVX512_VNNI FMA\n",
            "To enable them in other operations, rebuild TensorFlow with the appropriate compiler flags.\n",
            "2022-07-28 08:20:48.317273: I tensorflow/stream_executor/cuda/cuda_gpu_executor.cc:975] successful NUMA node read from SysFS had negative value (-1), but there must be at least one NUMA node, so returning NUMA node zero\n",
            "2022-07-28 08:20:48.317462: I tensorflow/stream_executor/cuda/cuda_gpu_executor.cc:975] successful NUMA node read from SysFS had negative value (-1), but there must be at least one NUMA node, so returning NUMA node zero\n",
            "2022-07-28 08:20:48.317586: I tensorflow/stream_executor/cuda/cuda_gpu_executor.cc:975] successful NUMA node read from SysFS had negative value (-1), but there must be at least one NUMA node, so returning NUMA node zero\n",
            "2022-07-28 08:20:48.747908: I tensorflow/stream_executor/cuda/cuda_gpu_executor.cc:975] successful NUMA node read from SysFS had negative value (-1), but there must be at least one NUMA node, so returning NUMA node zero\n",
            "2022-07-28 08:20:48.748108: I tensorflow/stream_executor/cuda/cuda_gpu_executor.cc:975] successful NUMA node read from SysFS had negative value (-1), but there must be at least one NUMA node, so returning NUMA node zero\n",
            "2022-07-28 08:20:48.748201: I tensorflow/stream_executor/cuda/cuda_gpu_executor.cc:975] successful NUMA node read from SysFS had negative value (-1), but there must be at least one NUMA node, so returning NUMA node zero\n",
            "2022-07-28 08:20:48.748343: I tensorflow/core/common_runtime/gpu/gpu_device.cc:1532] Created device /job:localhost/replica:0/task:0/device:GPU:0 with 14193 MB memory:  -> device: 0, name: NVIDIA GeForce RTX 3080 Laptop GPU, pci bus id: 0000:01:00.0, compute capability: 8.6\n"
          ]
        },
        {
          "data": {
            "image/png": "[encoded data removed]",
            "text/plain": [
              "<Figure size 432x288 with 1 Axes>"
            ]
          },
          "metadata": {
            "needs_background": "light"
          },
          "output_type": "display_data"
        }
      ],
      "source": [
        "x = tf.constant([0, 1, 2, 3, 4, 5], dtype=tf.float32)\n",
        "y = tf.constant([-4, -2, 0, 2, 4, 6], dtype=tf.float32)\n",
        "\n",
        "plt.plot(x, y, 'o')\n",
        "plt.show()"
      ]
    },
    {
      "cell_type": "markdown",
      "metadata": {
        "id": "rCuJxFHCLZsM"
      },
      "source": [
        "Now let's create the most basic ML model possible and see if it can figure out the relationship between these numbers."
      ]
    },
    {
      "cell_type": "code",
      "execution_count": 3,
      "metadata": {
        "id": "fJ54-vErzjrN"
      },
      "outputs": [],
      "source": [
        "# The weights of a neural network are generally initialized randomly. In order\n",
        "# to ensure that we get reproducible results, we can set the random seed. The\n",
        "# choice of the seed is arbitrary.\n",
        "tf.random.set_seed(1234)\n",
        "\n",
        "# Create a linear model (y = wx + b).\n",
        "model = tf.keras.Sequential([\n",
        "    tf.keras.layers.Dense(units=1, input_shape=[1])\n",
        "])\n",
        "\n",
        "# Configure the model for training.\n",
        "model.compile(optimizer='sgd', loss='mean_squared_error')\n",
        "\n",
        "# Train the model.\n",
        "history = model.fit(x, y, epochs=1000, verbose=0)"
      ]
    },
    {
      "cell_type": "markdown",
      "metadata": {
        "id": "v7TtI2VlF3l-"
      },
      "source": [
        "Training should complete quickly. Once done, we need to assess the results. If the model is learning correctly, we should see the loss becoming lower over time. The `history` object returned by `model.fit` holds information about the loss for each epoch. Let's use it to plot the loss over time."
      ]
    },
    {
      "cell_type": "code",
      "execution_count": 4,
      "metadata": {
        "colab": {
          "base_uri": "https://localhost:8080/",
          "height": 279
        },
        "id": "HExM324NEQff",
        "outputId": "de6470bc-acd7-4ce1-a7f7-e66c82a7d862"
      },
      "outputs": [
        {
          "data": {
            "image/png": "[encoded data removed]",
            "text/plain": [
              "<Figure size 432x288 with 1 Axes>"
            ]
          },
          "metadata": {
            "needs_background": "light"
          },
          "output_type": "display_data"
        }
      ],
      "source": [
        "plt.plot(history.history['loss'])\n",
        "plt.xlabel('Epoch')\n",
        "plt.ylabel('Loss (mean squared error)')\n",
        "plt.show()"
      ]
    },
    {
      "cell_type": "markdown",
      "metadata": {
        "id": "gksodaVtF0-c"
      },
      "source": [
        "We can access the model's parameters via its `weights` attribute:"
      ]
    },
    {
      "cell_type": "code",
      "execution_count": 5,
      "metadata": {
        "colab": {
          "base_uri": "https://localhost:8080/"
        },
        "id": "4i644AUPFzkN",
        "outputId": "2461ce1d-d15e-4b81-c8d8-ff2a5f3b8352"
      },
      "outputs": [
        {
          "name": "stdout",
          "output_type": "stream",
          "text": [
            "<tf.Variable 'dense/kernel:0' shape=(1, 1) dtype=float32, numpy=array([[1.9968488]], dtype=float32)>\n",
            "<tf.Variable 'dense/bias:0' shape=(1,) dtype=float32, numpy=array([-3.9888177], dtype=float32)>\n"
          ]
        }
      ],
      "source": [
        "for w in model.weights:\n",
        "  print(w)"
      ]
    },
    {
      "cell_type": "markdown",
      "metadata": {
        "id": "geOuymYuISz8"
      },
      "source": [
        "As you can see, the model we created has two parameters, called `kernel` and `bias`. The kernel is the `w` multiplying `x` in our linear function, while the bias is the additive term `b`. If everything went well, the parameters should have values close to 2 and -4, respectively. This is what we were expecting! "
      ]
    },
    {
      "cell_type": "markdown",
      "metadata": {
        "id": "4GsdMx6sKN8X"
      },
      "source": [
        "## Image classification using dense neural networks"
      ]
    },
    {
      "cell_type": "markdown",
      "metadata": {
        "id": "Xn5qQ8RPX7Tp"
      },
      "source": [
        "We will now begin to work with a more complex problem: image classification.\n",
        "\n",
        "In this example, we will be using the Fashion MNIST dataset. This is an alternative to the classic MNIST (Modified National Institute of Standards and Technology) dataset of hand-written digits, which is widely used in machine learning.\n",
        "\n",
        "The dataset consists of low-resolution, grayscale images of fashion items, such as T-shirts and dresses, and it comes already split into a training set and a test set. It also has labels for each example, which indicate the class of each\n",
        "item (e.g., T-shirt).\n",
        "\n",
        "The task is to train a model that, given an image, can predict the class of the contained item.\n",
        "\n",
        "The Fashion MNIST dataset is available in Keras and can be loaded as follows: "
      ]
    },
    {
      "cell_type": "code",
      "execution_count": 6,
      "metadata": {
        "colab": {
          "base_uri": "https://localhost:8080/"
        },
        "id": "s0IULm-ZKNb-",
        "outputId": "56b929a2-4d55-4f1e-9fe2-2f2b14d12e9a"
      },
      "outputs": [],
      "source": [
        "(train_images, train_labels), (test_images, test_labels) = tf.keras.datasets.fashion_mnist.load_data()"
      ]
    },
    {
      "cell_type": "markdown",
      "metadata": {
        "id": "eY3cCF9yaqyj"
      },
      "source": [
        "`fashion_mnist.load_data()` returns 4 arrays: `train_images`, `train_labels`, `test_images` and `test_labels`. `train_images` and `train_labels` are the training set. We will use these to train our model."
      ]
    },
    {
      "cell_type": "code",
      "execution_count": 7,
      "metadata": {
        "colab": {
          "base_uri": "https://localhost:8080/"
        },
        "id": "MTC-aKGMaqbi",
        "outputId": "50a46516-18a2-4110-991b-b053c5b8c18c"
      },
      "outputs": [
        {
          "name": "stdout",
          "output_type": "stream",
          "text": [
            "shape of train_images:  (60000, 28, 28)\n",
            "shape of train_labels:  (60000,)\n"
          ]
        }
      ],
      "source": [
        "print(\"shape of train_images: \", train_images.shape)\n",
        "print(\"shape of train_labels: \", train_labels.shape)"
      ]
    },
    {
      "cell_type": "markdown",
      "metadata": {
        "id": "HqZnsxPmbe2-"
      },
      "source": [
        "As you can see, the training dataset consists of 60,000 images, each of which has size 28 x 28, and the corresponding labels.\n",
        "\n",
        "`test_images` and `test_labels` form the test set. We will use those to\n",
        "evaluate the trained model."
      ]
    },
    {
      "cell_type": "code",
      "execution_count": 8,
      "metadata": {
        "colab": {
          "base_uri": "https://localhost:8080/"
        },
        "id": "d-3Lnanuba_P",
        "outputId": "1d7ebcb9-2f53-4c67-e5b1-e5f22b430269"
      },
      "outputs": [
        {
          "name": "stdout",
          "output_type": "stream",
          "text": [
            "shape of test_images:  (10000, 28, 28)\n",
            "shape of test_labels:  (10000,)\n"
          ]
        }
      ],
      "source": [
        "print(\"shape of test_images: \", test_images.shape)\n",
        "print(\"shape of test_labels: \", test_labels.shape)"
      ]
    },
    {
      "cell_type": "markdown",
      "metadata": {
        "id": "K5Ey87zSenEY"
      },
      "source": [
        "The test set looks similar to the training set, except it has 10,000 examples.\n",
        "\n",
        "The labels are integers between 0 and 9, where 0 is the first class, 1 is the\n",
        "second class, and so on. There are 10 classes in total."
      ]
    },
    {
      "cell_type": "code",
      "execution_count": 9,
      "metadata": {
        "colab": {
          "base_uri": "https://localhost:8080/"
        },
        "id": "-at4Ate2mXX8",
        "outputId": "573390fb-43ce-48da-8ea4-613ee17ddedb"
      },
      "outputs": [
        {
          "name": "stdout",
          "output_type": "stream",
          "text": [
            "[9 0 0 3 0 2 7 2 5 5]\n"
          ]
        }
      ],
      "source": [
        "print(train_labels[:10])"
      ]
    },
    {
      "cell_type": "markdown",
      "metadata": {
        "id": "-M-XV6Q5mVcE"
      },
      "source": [
        "The corresponding names for each class are as follows:"
      ]
    },
    {
      "cell_type": "code",
      "execution_count": 10,
      "metadata": {
        "id": "_h1xeADbj5m7"
      },
      "outputs": [],
      "source": [
        "class_names = ['T-shirt/top',\n",
        "               'trouser',\n",
        "               'pullover',\n",
        "               'dress',\n",
        "               'coat',\n",
        "               'sandal',\n",
        "               'shirt',\n",
        "               'sneaker',\n",
        "               'bag',\n",
        "               'ankle boot']"
      ]
    },
    {
      "cell_type": "markdown",
      "metadata": {
        "id": "wcY0aFBdjpMl"
      },
      "source": [
        "Let's explore the first few training examples:"
      ]
    },
    {
      "cell_type": "code",
      "execution_count": 11,
      "metadata": {
        "colab": {
          "base_uri": "https://localhost:8080/",
          "height": 594
        },
        "id": "4jj-2wqcel6L",
        "outputId": "23c9d317-a289-449e-f3e6-c35b455a8371"
      },
      "outputs": [
        {
          "data": {
            "image/png": "[encoded data removed]",
            "text/plain": [
              "<Figure size 720x720 with 25 Axes>"
            ]
          },
          "metadata": {},
          "output_type": "display_data"
        }
      ],
      "source": [
        "fig, ax = plt.subplots(5, 5, figsize=(10, 10))\n",
        "for i in range(25):\n",
        "  row, col = i // 5, i % 5\n",
        "  image = train_images[i]\n",
        "  label = class_names[train_labels[i]]\n",
        "  ax[row, col].imshow(train_images[i], cmap=\"gray\")\n",
        "  ax[row, col].set_xticks([])\n",
        "  ax[row, col].set_yticks([])\n",
        "  ax[row, col].set_title(label)\n",
        "plt.show()"
      ]
    },
    {
      "cell_type": "markdown",
      "metadata": {
        "id": "V-kncfHjmpq-"
      },
      "source": [
        "As you can see, each example is a grayscale image with pixel intensities between\n",
        "0 and 255. Each image shows a fashion item of a certain class.\n",
        "\n",
        "We need to do some basic preprocessing before we can feed these data to our model. First, neural networks work better when their input and output values are small, so we usually rescale images to the range [0, 1]."
      ]
    },
    {
      "cell_type": "code",
      "execution_count": 12,
      "metadata": {
        "id": "6EKCnUmRoXDb"
      },
      "outputs": [],
      "source": [
        "train_images = train_images.astype(\"float32\") / 255\n",
        "test_images = test_images.astype(\"float32\") / 255"
      ]
    },
    {
      "cell_type": "markdown",
      "metadata": {
        "id": "jH3NoJCEopF3"
      },
      "source": [
        "Additionally, remember that, in multiclass classification, we typically represent labels using one-hot encoding. We can use [`tf.one_hot`](https://www.tensorflow.org/api_docs/python/tf/one_hot) to create one-hot vectors from integer labels."
      ]
    },
    {
      "cell_type": "code",
      "execution_count": 13,
      "metadata": {
        "id": "kptc4EgTofGn"
      },
      "outputs": [],
      "source": [
        "train_labels_onehot = tf.one_hot(train_labels, depth=10)\n",
        "test_labels_onehot = tf.one_hot(test_labels, depth=10)"
      ]
    },
    {
      "cell_type": "markdown",
      "metadata": {
        "id": "u6OSly9VqdSH"
      },
      "source": [
        "Here are a few examples of how this transformation works:"
      ]
    },
    {
      "cell_type": "code",
      "execution_count": 14,
      "metadata": {
        "colab": {
          "base_uri": "https://localhost:8080/"
        },
        "id": "3XV9B3ABpbOu",
        "outputId": "77b34be7-ef4f-42de-a7b8-3ad5ab6b7edb"
      },
      "outputs": [
        {
          "name": "stdout",
          "output_type": "stream",
          "text": [
            "integer to one-hot (0): 9 --> [0. 0. 0. 0. 0. 0. 0. 0. 0. 1.]\n",
            "integer to one-hot (1): 0 --> [1. 0. 0. 0. 0. 0. 0. 0. 0. 0.]\n",
            "integer to one-hot (2): 0 --> [1. 0. 0. 0. 0. 0. 0. 0. 0. 0.]\n",
            "integer to one-hot (3): 3 --> [0. 0. 0. 1. 0. 0. 0. 0. 0. 0.]\n",
            "integer to one-hot (4): 0 --> [1. 0. 0. 0. 0. 0. 0. 0. 0. 0.]\n"
          ]
        }
      ],
      "source": [
        "for i in range(5):\n",
        "  print(f\"integer to one-hot ({i}):\", train_labels[i], \"-->\", train_labels_onehot[i].numpy())"
      ]
    },
    {
      "cell_type": "markdown",
      "metadata": {
        "id": "beplg9oPqYuO"
      },
      "source": [
        "> **Tip!** Keras also lets you input integer labels directly. It will still do the above transformation, but it will be done automatically, behind the scenes. Have a look at the [sparse categorical cross-entropy](https://www.tensorflow.org/api_docs/python/tf/keras/losses/SparseCategoricalCrossentropy) loss function to learn more!"
      ]
    },
    {
      "cell_type": "markdown",
      "metadata": {
        "id": "G59UUVg-sJ2X"
      },
      "source": [
        "Great! We are ready to create the model."
      ]
    },
    {
      "cell_type": "code",
      "execution_count": 15,
      "metadata": {
        "colab": {
          "base_uri": "https://localhost:8080/"
        },
        "id": "FoAftgHssQgJ",
        "outputId": "e34f1df6-9899-4188-e2aa-c6df9399b910"
      },
      "outputs": [
        {
          "name": "stdout",
          "output_type": "stream",
          "text": [
            "Model: \"sequential_1\"\n",
            "_________________________________________________________________\n",
            " Layer (type)                Output Shape              Param #   \n",
            "=================================================================\n",
            " flatten (Flatten)           (None, 784)               0         \n",
            "                                                                 \n",
            " dense_1 (Dense)             (None, 128)               100480    \n",
            "                                                                 \n",
            " dense_2 (Dense)             (None, 10)                1290      \n",
            "                                                                 \n",
            "=================================================================\n",
            "Total params: 101,770\n",
            "Trainable params: 101,770\n",
            "Non-trainable params: 0\n",
            "_________________________________________________________________\n"
          ]
        }
      ],
      "source": [
        "model = tf.keras.Sequential([\n",
        "    tf.keras.layers.Flatten(input_shape=[28, 28]),\n",
        "    tf.keras.layers.Dense(units=128, activation='relu'),\n",
        "    tf.keras.layers.Dense(units=10, activation='softmax')\n",
        "])\n",
        "\n",
        "model.summary()"
      ]
    },
    {
      "cell_type": "markdown",
      "metadata": {
        "id": "w7y7Bft2JQtn"
      },
      "source": [
        "The [`summary`](https://www.tensorflow.org/api_docs/python/tf/keras/Model#summary) method is a useful utility to get basic information about the model at a glance. The model we have created is made up of 3 layers. Remember that a layer is the basic building block used to create neural networks. Many layers have parameters that are learned during training.\n",
        "\n",
        "* The [`Flatten`](https://www.tensorflow.org/api_docs/python/tf/keras/layers/Flatten) layer takes an input image of shape `[28, 28]` and flattens it into a 1D vector of size 28 x 28 = 784. This layer does not have any parameters.\n",
        "* The first [`Dense`](https://www.tensorflow.org/api_docs/python/tf/keras/layers/Dense) layer takes this flattened image and returns a feature vector of size 128 (the number of units). Remember that, in dense layers, every input element is connected to every unit through a learned weight, so we have 784 x 128 = 100,352 weights. Additionally, each unit has a bias, so we have a total of 100,352 + 128 = 100,480 parameters. \n",
        "* The second and final `Dense` layer takes the previous feature vector and outputs a new feature vector of size 10, which is the number of classes. To ensure that this output is a probability distribution over the predicted classes, we use the softmax activation.\n",
        "\n",
        "We need to configure a few more things before we can train our model, using the [`compile`](https://www.tensorflow.org/api_docs/python/tf/keras/Model#compile) method."
      ]
    },
    {
      "cell_type": "code",
      "execution_count": 16,
      "metadata": {
        "id": "e4smXakwJLvM"
      },
      "outputs": [],
      "source": [
        "model.compile(optimizer='adam',\n",
        "              loss='categorical_crossentropy',\n",
        "              metrics=['accuracy'])"
      ]
    },
    {
      "cell_type": "markdown",
      "metadata": {
        "id": "1ceV4kKmVsp8"
      },
      "source": [
        "Here we are specifying three things:\n",
        "\n",
        "* The **optimizer** is the algorithm that controls how the model's parameters must be updated. Adam is a very popular algorithm and it is an improvement over the classic gradient descent.\n",
        "* The **loss** is the function that measures how well the model's predictions agree with the ground truth labels. A lower value is better and the training process will attempt to reduce the loss over time. The [categorical cross-entropy](https://www.tensorflow.org/api_docs/python/tf/keras/losses/CategoricalCrossentropy) loss is commonly used for multiclass classification problems.\n",
        "* The **metrics** are additional values we might want to keep track of during training. For example, we could look at the accuracy, i.e., the proportion of examples that are classified correctly. Note that metrics only have an informative purpose and do not affect training in any way. Only the loss is used to drive parameter updates.\n",
        "\n",
        "Great! We are ready to train the model by calling the [`fit`](https://www.tensorflow.org/api_docs/python/tf/keras/Model#fit) method."
      ]
    },
    {
      "cell_type": "code",
      "execution_count": 17,
      "metadata": {
        "colab": {
          "base_uri": "https://localhost:8080/"
        },
        "id": "aqiaa72_uh3e",
        "outputId": "54d5a7bd-f5f9-4129-de40-72a7e98ece7b"
      },
      "outputs": [
        {
          "name": "stdout",
          "output_type": "stream",
          "text": [
            "Epoch 1/10\n",
            " 158/1875 [=>............................] - ETA: 1s - loss: 0.8229 - accuracy: 0.7174"
          ]
        },
        {
          "name": "stderr",
          "output_type": "stream",
          "text": [
            "2022-07-28 08:20:53.222921: I tensorflow/stream_executor/cuda/cuda_blas.cc:1786] TensorFloat-32 will be used for the matrix multiplication. This will only be logged once.\n"
          ]
        },
        {
          "name": "stdout",
          "output_type": "stream",
          "text": [
            "1875/1875 [==============================] - 2s 995us/step - loss: 0.4977 - accuracy: 0.8255\n",
            "Epoch 2/10\n",
            "1875/1875 [==============================] - 2s 974us/step - loss: 0.3747 - accuracy: 0.8651\n",
            "Epoch 3/10\n",
            "1875/1875 [==============================] - 2s 1ms/step - loss: 0.3386 - accuracy: 0.8758\n",
            "Epoch 4/10\n",
            "1875/1875 [==============================] - 2s 990us/step - loss: 0.3128 - accuracy: 0.8850\n",
            "Epoch 5/10\n",
            "1875/1875 [==============================] - 2s 1ms/step - loss: 0.2953 - accuracy: 0.8909\n",
            "Epoch 6/10\n",
            "1875/1875 [==============================] - 2s 1ms/step - loss: 0.2792 - accuracy: 0.8959\n",
            "Epoch 7/10\n",
            "1875/1875 [==============================] - 2s 984us/step - loss: 0.2691 - accuracy: 0.8995\n",
            "Epoch 8/10\n",
            "1875/1875 [==============================] - 2s 963us/step - loss: 0.2570 - accuracy: 0.9035\n",
            "Epoch 9/10\n",
            "1875/1875 [==============================] - 2s 1ms/step - loss: 0.2482 - accuracy: 0.9078\n",
            "Epoch 10/10\n",
            "1875/1875 [==============================] - 2s 967us/step - loss: 0.2391 - accuracy: 0.9097\n"
          ]
        }
      ],
      "source": [
        "history = model.fit(train_images, train_labels_onehot, epochs=10)"
      ]
    },
    {
      "cell_type": "markdown",
      "metadata": {
        "id": "qXqoRb-LYJc_"
      },
      "source": [
        "As the training progresses, Keras will display information such as the current epoch and the current values for the loss function and metrics. This information is also returned in the `history` object. Let's use it to plot the training loss and accuracy!"
      ]
    },
    {
      "cell_type": "code",
      "execution_count": 18,
      "metadata": {
        "colab": {
          "base_uri": "https://localhost:8080/",
          "height": 323
        },
        "id": "lZoQmH2YYI7k",
        "outputId": "4be3607d-292a-4423-f813-1151bbe64fd4"
      },
      "outputs": [
        {
          "data": {
            "image/png": "[encoded data removed]",
            "text/plain": [
              "<Figure size 921.6x345.6 with 2 Axes>"
            ]
          },
          "metadata": {
            "needs_background": "light"
          },
          "output_type": "display_data"
        }
      ],
      "source": [
        "fig, ax = plt.subplots(1, 2, figsize=(12.8, 4.8))\n",
        "ax[0].plot(history.history['loss'])\n",
        "ax[0].set_xlabel('Epoch')\n",
        "ax[0].set_ylabel('Loss')\n",
        "\n",
        "ax[1].plot(history.history['accuracy'])\n",
        "ax[1].set_xlabel('Epoch')\n",
        "ax[1].set_ylabel('Accuracy')\n",
        "plt.show()"
      ]
    },
    {
      "cell_type": "markdown",
      "metadata": {
        "id": "SVIjjjw-ZczW"
      },
      "source": [
        "Finally, let's check the performance on the test set. Remember that being able to extract correct predictions on the training set is, by itself, entirely useless in the real world (we already knew the answers for those!). For a model to be useful, we must show it can generalize to new, previously unseen data."
      ]
    },
    {
      "cell_type": "code",
      "execution_count": 19,
      "metadata": {
        "colab": {
          "base_uri": "https://localhost:8080/"
        },
        "id": "XMD3RNU2X_z3",
        "outputId": "9c0eb745-8a0f-4ad9-c34b-9dcde4d0906b"
      },
      "outputs": [
        {
          "name": "stdout",
          "output_type": "stream",
          "text": [
            "313/313 [==============================] - 0s 982us/step - loss: 0.3478 - accuracy: 0.8771\n",
            "The test loss is: 0.34784072637557983\n",
            "The test accuracy is: 0.8770999908447266\n"
          ]
        }
      ],
      "source": [
        "loss, acc = model.evaluate(test_images, test_labels_onehot)\n",
        "print(f\"The test loss is: {loss}\")\n",
        "print(f\"The test accuracy is: {acc}\")"
      ]
    },
    {
      "cell_type": "markdown",
      "metadata": {
        "id": "pAOQEZWFaYH7"
      },
      "source": [
        "## Image classification using convolutional neural networks"
      ]
    },
    {
      "cell_type": "markdown",
      "metadata": {
        "id": "jHh362B7Hl5G"
      },
      "source": [
        "Convolutional neural networks are particularly well suited for image processing tasks. Most image processing applications of deep learning use convolutions. We will now train a model "
      ]
    },
    {
      "cell_type": "code",
      "execution_count": 20,
      "metadata": {
        "colab": {
          "base_uri": "https://localhost:8080/"
        },
        "id": "HQ1C5eVbHna1",
        "outputId": "d19c6950-ed02-433b-c066-b533146aefaf"
      },
      "outputs": [
        {
          "name": "stdout",
          "output_type": "stream",
          "text": [
            "Model: \"sequential_2\"\n",
            "_________________________________________________________________\n",
            " Layer (type)                Output Shape              Param #   \n",
            "=================================================================\n",
            " conv2d (Conv2D)             (None, 26, 26, 32)        320       \n",
            "                                                                 \n",
            " max_pooling2d (MaxPooling2D  (None, 13, 13, 32)       0         \n",
            " )                                                               \n",
            "                                                                 \n",
            " conv2d_1 (Conv2D)           (None, 11, 11, 64)        18496     \n",
            "                                                                 \n",
            " max_pooling2d_1 (MaxPooling  (None, 5, 5, 64)         0         \n",
            " 2D)                                                             \n",
            "                                                                 \n",
            " flatten_1 (Flatten)         (None, 1600)              0         \n",
            "                                                                 \n",
            " dense_3 (Dense)             (None, 10)                16010     \n",
            "                                                                 \n",
            "=================================================================\n",
            "Total params: 34,826\n",
            "Trainable params: 34,826\n",
            "Non-trainable params: 0\n",
            "_________________________________________________________________\n"
          ]
        }
      ],
      "source": [
        "model = tf.keras.Sequential([\n",
        "    tf.keras.Input(shape=(28, 28, 1)),\n",
        "    tf.keras.layers.Conv2D(filters=32, kernel_size=(3, 3), activation=\"relu\"),\n",
        "    tf.keras.layers.MaxPooling2D(pool_size=(2, 2)),\n",
        "    tf.keras.layers.Conv2D(filters=64, kernel_size=(3, 3), activation=\"relu\"),\n",
        "    tf.keras.layers.MaxPooling2D(pool_size=(2, 2)),\n",
        "    tf.keras.layers.Flatten(),\n",
        "    tf.keras.layers.Dense(10, activation=\"softmax\"),\n",
        "])\n",
        "\n",
        "model.summary()"
      ]
    },
    {
      "cell_type": "markdown",
      "metadata": {
        "id": "Thgku8PPL8cI"
      },
      "source": [
        "This model has different layer types:\n",
        "\n",
        "* An [`Input`](https://www.tensorflow.org/api_docs/python/tf/keras/Input) layer. This is sometimes used as a placeholder for the actual inputs. Note that the input shape is `(28, 28, 1)`, i.e., (height, width, channels).\n",
        "* [`Conv2D`](https://www.tensorflow.org/api_docs/python/tf/keras/layers/Conv2D) applies a 2-dimensional convolution. In convolutional layers, we must specify the number of filters and their size. We can also include an activation function. Note that convolutional layers have one output channel per filter.\n",
        "* [`MaxPooling2D`](https://www.tensorflow.org/api_docs/python/tf/keras/layers/MaxPooling2D) applies 2-dimensional max-pooling along the spatial dimensions. Note how the output dimensions are half those of the inputs.\n",
        "* [`Flatten`](https://www.tensorflow.org/api_docs/python/tf/keras/layers/Flatten) takes the high-level features of size `(5, 5, 32)` and flattens them into a 1D vector of size `(1600,)`.\n",
        "* The final [`Dense`](https://www.tensorflow.org/api_docs/python/tf/keras/layers/Dense) layer predicts the class probabilities based on the intermediate feature vector.\n",
        "\n",
        "As before, we need to configure a few extra things before we can begin to train."
      ]
    },
    {
      "cell_type": "code",
      "execution_count": 21,
      "metadata": {
        "id": "6lmoko9S7vP1"
      },
      "outputs": [],
      "source": [
        "model.compile(optimizer=tf.keras.optimizers.Adam(learning_rate=0.001),\n",
        "              loss=\"categorical_crossentropy\",\n",
        "              metrics=[\"accuracy\"])"
      ]
    },
    {
      "cell_type": "markdown",
      "metadata": {
        "id": "CwChHvL17y2F"
      },
      "source": [
        "Note that, in this case, we specified the optimizer as [`tf.keras.optimizers.Adam`](https://www.tensorflow.org/api_docs/python/tf/keras/optimizers/Adam) instead of `'adam'`. This syntax is a bit more verbose, but it has the advantage that it lets us specify the learning rate."
      ]
    },
    {
      "cell_type": "markdown",
      "metadata": {
        "id": "GvtCVhLhRBzQ"
      },
      "source": [
        "It is useful to know that `model.fit` accepts a `validation_data` argument, which we can use to pass a validation set (or the test set, in this case). When doing this, Keras will also keep track of the loss and metrics over time for this dataset. Note that this has an informative purpose only and does not affect training in any way."
      ]
    },
    {
      "cell_type": "code",
      "execution_count": 22,
      "metadata": {
        "colab": {
          "base_uri": "https://localhost:8080/"
        },
        "id": "jFipatPd7w-N",
        "outputId": "1cd5ba7e-8dc7-4d25-884f-94d9487bee0f"
      },
      "outputs": [
        {
          "name": "stdout",
          "output_type": "stream",
          "text": [
            "Epoch 1/10\n"
          ]
        },
        {
          "name": "stderr",
          "output_type": "stream",
          "text": [
            "2022-07-28 08:21:13.696329: I tensorflow/stream_executor/cuda/cuda_dnn.cc:384] Loaded cuDNN version 8100\n"
          ]
        },
        {
          "name": "stdout",
          "output_type": "stream",
          "text": [
            "1875/1875 [==============================] - 5s 2ms/step - loss: 0.4811 - accuracy: 0.8274 - val_loss: 0.3717 - val_accuracy: 0.8684\n",
            "Epoch 2/10\n",
            "1875/1875 [==============================] - 3s 2ms/step - loss: 0.3262 - accuracy: 0.8831 - val_loss: 0.3242 - val_accuracy: 0.8825\n",
            "Epoch 3/10\n",
            "1875/1875 [==============================] - 3s 2ms/step - loss: 0.2877 - accuracy: 0.8958 - val_loss: 0.3054 - val_accuracy: 0.8905\n",
            "Epoch 4/10\n",
            "1875/1875 [==============================] - 4s 2ms/step - loss: 0.2580 - accuracy: 0.9060 - val_loss: 0.2854 - val_accuracy: 0.8974\n",
            "Epoch 5/10\n",
            "1875/1875 [==============================] - 3s 2ms/step - loss: 0.2381 - accuracy: 0.9145 - val_loss: 0.2641 - val_accuracy: 0.9041\n",
            "Epoch 6/10\n",
            "1875/1875 [==============================] - 3s 2ms/step - loss: 0.2202 - accuracy: 0.9201 - val_loss: 0.2781 - val_accuracy: 0.9000\n",
            "Epoch 7/10\n",
            "1875/1875 [==============================] - 3s 2ms/step - loss: 0.2057 - accuracy: 0.9253 - val_loss: 0.2788 - val_accuracy: 0.8978\n",
            "Epoch 8/10\n",
            "1875/1875 [==============================] - 3s 2ms/step - loss: 0.1932 - accuracy: 0.9294 - val_loss: 0.2679 - val_accuracy: 0.9038\n",
            "Epoch 9/10\n",
            "1875/1875 [==============================] - 3s 2ms/step - loss: 0.1824 - accuracy: 0.9340 - val_loss: 0.2782 - val_accuracy: 0.8995\n",
            "Epoch 10/10\n",
            "1875/1875 [==============================] - 3s 2ms/step - loss: 0.1725 - accuracy: 0.9370 - val_loss: 0.2987 - val_accuracy: 0.8952\n"
          ]
        }
      ],
      "source": [
        "history = model.fit(train_images, train_labels_onehot,\n",
        "                    epochs=10,\n",
        "                    validation_data=(test_images, test_labels_onehot))"
      ]
    },
    {
      "cell_type": "markdown",
      "metadata": {
        "id": "svIv4S6SPkVi"
      },
      "source": [
        "Let's plot the results."
      ]
    },
    {
      "cell_type": "code",
      "execution_count": 23,
      "metadata": {
        "colab": {
          "base_uri": "https://localhost:8080/",
          "height": 323
        },
        "id": "5R91dL3WRYgh",
        "outputId": "6009deb6-fb46-4f00-bdf1-fffb7412acf2"
      },
      "outputs": [
        {
          "data": {
            "image/png": "[encoded data removed]",
            "text/plain": [
              "<Figure size 921.6x345.6 with 2 Axes>"
            ]
          },
          "metadata": {
            "needs_background": "light"
          },
          "output_type": "display_data"
        }
      ],
      "source": [
        "fig, ax = plt.subplots(1, 2, figsize=(12.8, 4.8))\n",
        "ax[0].plot(history.history['loss'], label='train')\n",
        "ax[0].plot(history.history['val_loss'], label='test')\n",
        "ax[0].set_xlabel('Epoch')\n",
        "ax[0].set_ylabel('Loss')\n",
        "ax[0].legend()\n",
        "\n",
        "ax[1].plot(history.history['accuracy'], label='train')\n",
        "ax[1].plot(history.history['val_accuracy'], label='test')\n",
        "ax[1].set_xlabel('Epoch')\n",
        "ax[1].set_ylabel('Accuracy')\n",
        "ax[1].legend()\n",
        "plt.show()"
      ]
    },
    {
      "cell_type": "code",
      "execution_count": 24,
      "metadata": {
        "id": "8XibY8sv8Q4j"
      },
      "outputs": [
        {
          "name": "stdout",
          "output_type": "stream",
          "text": [
            "313/313 [==============================] - 0s 1ms/step - loss: 0.2987 - accuracy: 0.8952\n",
            "The test loss is: 0.29867619276046753\n",
            "The test accuracy is: 0.8952000141143799\n"
          ]
        }
      ],
      "source": [
        "loss, acc = model.evaluate(test_images, test_labels_onehot)\n",
        "print(f\"The test loss is: {loss}\")\n",
        "print(f\"The test accuracy is: {acc}\")"
      ]
    },
    {
      "cell_type": "markdown",
      "metadata": {
        "id": "6euKyc6sRdL4"
      },
      "source": [
        "Great! If everything went well, this model probably outperformed your previous attempt using dense layers. And this is despite the fact that it has significantly less parameters: 34,826, down from 101,770!"
      ]
    },
    {
      "cell_type": "markdown",
      "metadata": {
        "id": "-obDBYxcFDgS"
      },
      "source": [
        "## Conclusion\n",
        "In this tutorial, we created 3 machine learning models using TensorFlow. First, we trained the simplest possible model to perform linear regression. Secondly, we created a dense neural network to classify images of fashion items. Finally, we approached the same problem using convolutional neural networks.\n",
        "\n",
        "We used the Fashion MNIST dataset, a classic ML dataset which is clean, labelled, split into training/test and ready to load with a single line of code. In the real world, of course, datasets do not usually come in such a nice format. In the next sessions, we will learn more about handling medical imaging data. You will also learn more about assessing and optimizing model performance."
      ]
    },
    {
      "cell_type": "code",
      "execution_count": null,
      "metadata": {
        "id": "gjFNszB5T49U"
      },
      "outputs": [],
      "source": []
    }
  ],
  "metadata": {
    "accelerator": "GPU",
    "colab": {
      "collapsed_sections": [],
      "name": "Workshop1.ipynb",
      "provenance": [],
      "toc_visible": true
    },
    "gpuClass": "standard",
    "kernelspec": {
      "display_name": "Python 3.8.10 64-bit",
      "language": "python",
      "name": "python3"
    },
    "language_info": {
      "codemirror_mode": {
        "name": "ipython",
        "version": 3
      },
      "file_extension": ".py",
      "mimetype": "text/x-python",
      "name": "python",
      "nbconvert_exporter": "python",
      "pygments_lexer": "ipython3",
      "version": "3.8.10"
    },
    "vscode": {
      "interpreter": {
        "hash": "916dbcbb3f70747c44a77c7bcd40155683ae19c65e1c03b4aa3499c5328201f1"
      }
    }
  },
  "nbformat": 4,
  "nbformat_minor": 0
}
